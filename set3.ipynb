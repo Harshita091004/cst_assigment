{
 "cells": [
  {
   "cell_type": "code",
   "execution_count": 1,
   "metadata": {},
   "outputs": [
    {
     "name": "stdout",
     "output_type": "stream",
     "text": [
      "Error: The file example.txt does not exist.\n"
     ]
    }
   ],
   "source": [
    "# Write a program that reads a file and handles exceptions if the file does not exist.\n",
    "def read_file(filename):\n",
    "    try:\n",
    "        with open(filename, 'r') as file:\n",
    "            content = file.read()\n",
    "            print(\"File contents:\")\n",
    "            print(content)\n",
    "    except FileNotFoundError:\n",
    "        print(f\"Error: The file {filename} does not exist.\")\n",
    "    except PermissionError:\n",
    "        print(f\"Error: No permission to read {filename}\")\n",
    "    except IOError:\n",
    "        print(f\"An I/O error occurred while reading {filename}\")\n",
    "\n",
    "# Example usage\n",
    "read_file('example.txt')"
   ]
  },
  {
   "cell_type": "code",
   "execution_count": 2,
   "metadata": {},
   "outputs": [
    {
     "name": "stdout",
     "output_type": "stream",
     "text": [
      "3.0\n"
     ]
    }
   ],
   "source": [
    "# Implement a program that uses assertions to check the validity of user input.\n",
    "def calculate_average(numbers):\n",
    "    # Assert that input is a non-empty list\n",
    "    assert len(numbers) > 0, \"List cannot be empty\"\n",
    "    \n",
    "    # Assert that all elements are numbers\n",
    "    assert all(isinstance(num, (int, float)) for num in numbers), \"All elements must be numbers\"\n",
    "    \n",
    "    # Calculate and return average\n",
    "    return sum(numbers) / len(numbers)\n",
    "\n",
    "# Example usage\n",
    "try:\n",
    "    print(calculate_average([1, 2, 3, 4, 5]))\n",
    "    # This will raise an assertion error\n",
    "    # print(calculate_average([]))\n",
    "except AssertionError as e:\n",
    "    print(f\"Validation Error: {e}\")"
   ]
  },
  {
   "cell_type": "code",
   "execution_count": 3,
   "metadata": {},
   "outputs": [
    {
     "name": "stdout",
     "output_type": "stream",
     "text": [
      "5.0\n",
      "Error: Cannot divide by zero\n",
      "None\n",
      "Error: Invalid input types for division\n",
      "None\n"
     ]
    }
   ],
   "source": [
    "# Write a function to demonstrate the use of try-except blocks when dividing numbers.\n",
    "def safe_division(a, b):\n",
    "    try:\n",
    "        result = a / b\n",
    "        return result\n",
    "    except ZeroDivisionError:\n",
    "        print(\"Error: Cannot divide by zero\")\n",
    "        return None\n",
    "    except TypeError:\n",
    "        print(\"Error: Invalid input types for division\")\n",
    "        return None\n",
    "\n",
    "# Example usage\n",
    "print(safe_division(10, 2))\n",
    "print(safe_division(10, 0))\n",
    "print(safe_division(10, '2'))"
   ]
  },
  {
   "cell_type": "code",
   "execution_count": 4,
   "metadata": {},
   "outputs": [
    {
     "name": "stderr",
     "output_type": "stream",
     "text": [
      "2024-11-30 15:45:51,002 - ERROR - Value Error: math domain error\n",
      "2024-11-30 15:45:51,004 - ERROR - Value Error: math domain error\n"
     ]
    },
    {
     "name": "stdout",
     "output_type": "stream",
     "text": [
      "5.7707801635558535\n",
      "None\n",
      "None\n"
     ]
    }
   ],
   "source": [
    "# Create a program that captures and logs exceptions thrown in a mathematical computation.\n",
    "import logging\n",
    "import math\n",
    "\n",
    "# Configure logging\n",
    "logging.basicConfig(level=logging.ERROR, \n",
    "                    format='%(asctime)s - %(levelname)s - %(message)s')\n",
    "\n",
    "def complex_math_operation(x, y):\n",
    "    try:\n",
    "        # Complex mathematical computation\n",
    "        result = math.sqrt(x) / math.log(y)\n",
    "        return result\n",
    "    except ValueError as ve:\n",
    "        logging.error(f\"Value Error: {ve}\")\n",
    "        return None\n",
    "    except ZeroDivisionError as zde:\n",
    "        logging.error(f\"Division by Zero Error: {zde}\")\n",
    "        return None\n",
    "\n",
    "# Example usage\n",
    "print(complex_math_operation(16, 2))\n",
    "print(complex_math_operation(-4, 2))\n",
    "print(complex_math_operation(16, 0))"
   ]
  },
  {
   "cell_type": "code",
   "execution_count": 5,
   "metadata": {},
   "outputs": [
    {
     "name": "stdout",
     "output_type": "stream",
     "text": [
      "Deposited: $500\n",
      "Withdrawn: $200\n",
      "Current Balance: $1300\n"
     ]
    }
   ],
   "source": [
    "# Write a program that demonstrates encapsulation through private class members.\n",
    "class BankAccount:\n",
    "    def __init__(self, account_number, balance):\n",
    "        # Private members\n",
    "        self.__account_number = account_number  # Private attribute\n",
    "        self.__balance = balance  # Private attribute\n",
    "    \n",
    "    def deposit(self, amount):\n",
    "        if amount > 0:\n",
    "            self.__balance += amount\n",
    "            print(f\"Deposited: ${amount}\")\n",
    "        else:\n",
    "            print(\"Invalid deposit amount\")\n",
    "    \n",
    "    def withdraw(self, amount):\n",
    "        if 0 < amount <= self.__balance:\n",
    "            self.__balance -= amount\n",
    "            print(f\"Withdrawn: ${amount}\")\n",
    "        else:\n",
    "            print(\"Insufficient funds or invalid withdrawal amount\")\n",
    "    \n",
    "    def get_balance(self):\n",
    "        return self.__balance\n",
    "\n",
    "# Example usage\n",
    "account = BankAccount(\"12345\", 1000)\n",
    "account.deposit(500)\n",
    "account.withdraw(200)\n",
    "print(f\"Current Balance: ${account.get_balance()}\")"
   ]
  }
 ],
 "metadata": {
  "kernelspec": {
   "display_name": "Python 3",
   "language": "python",
   "name": "python3"
  },
  "language_info": {
   "codemirror_mode": {
    "name": "ipython",
    "version": 3
   },
   "file_extension": ".py",
   "mimetype": "text/x-python",
   "name": "python",
   "nbconvert_exporter": "python",
   "pygments_lexer": "ipython3",
   "version": "3.13.0"
  }
 },
 "nbformat": 4,
 "nbformat_minor": 4
}
