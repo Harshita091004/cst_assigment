{
 "cells": [
  {
   "cell_type": "code",
   "execution_count": null,
   "metadata": {},
   "outputs": [
    {
     "name": "stdout",
     "output_type": "stream",
     "text": [
      "radius =  6\n"
     ]
    }
   ],
   "source": [
    "# Write a Python program to calculate the area of a circle given its radius\n",
    "x = int(input(\"Enter radius\"))\n",
    "print(\"radius = \" , int(2*(22/7)*x))"
   ]
  },
  {
   "cell_type": "code",
   "execution_count": 6,
   "metadata": {},
   "outputs": [
    {
     "name": "stdout",
     "output_type": "stream",
     "text": [
      "Farhen =  212.0\n"
     ]
    }
   ],
   "source": [
    "# Create a program that takes user input for a temperature in Celsius and converts it to Fahrenheit.\n",
    "x =  int(input(\"Enter celsius\"))\n",
    "print(\"Farhen = \" , x * (9/5) + 32)"
   ]
  },
  {
   "cell_type": "code",
   "execution_count": 29,
   "metadata": {},
   "outputs": [
    {
     "name": "stdout",
     "output_type": "stream",
     "text": [
      "addition =  6\n"
     ]
    }
   ],
   "source": [
    "# calculator\n",
    "choice = input(\"Enter + - / *  for operation\")\n",
    "num1 = int(input(\"enter num 1\"))\n",
    "num2 = int(input(\"enter num 2\"))\n",
    "def add(a, b):\n",
    "    return a + b\n",
    "\n",
    "def subtract(a, b):\n",
    "    return a - b\n",
    "\n",
    "def multiply(a, b):\n",
    "    return a * b\n",
    "\n",
    "def divide(a, b):\n",
    "    if b == 0:\n",
    "        return \"Cannot divide by zero\"\n",
    "    return a / b\n",
    "if choice == \"+\":\n",
    "    print(\"addition = \", add(num1 , num2))\n",
    "elif choice == \"-\":\n",
    "    print(\"substraction = \" , subtract(num1,  num2))\n",
    "elif choice == \"*\":\n",
    "    print(\"multiplication = \" , multiply(num1 , num2))\n",
    "elif choice == \"/\":\n",
    "    print(\"division = \" , divide(num1 , num2))\n",
    "else:\n",
    "    print(\"Somethings not right\")"
   ]
  },
  {
   "cell_type": "code",
   "execution_count": 30,
   "metadata": {},
   "outputs": [
    {
     "name": "stdout",
     "output_type": "stream",
     "text": [
      "All tests passed!\n"
     ]
    }
   ],
   "source": [
    "assert add(2, 3) == 5, \"Addition test failed\"\n",
    "assert add(-1, 1) == 0, \"Addition test failed\"\n",
    "assert add(0, 0) == 0, \"Addition test failed\"\n",
    "\n",
    "# Test subtraction\n",
    "assert subtract(5, 3) == 2, \"Subtraction test failed\"\n",
    "assert subtract(3, 5) == -2, \"Subtraction test failed\"\n",
    "assert subtract(0, 0) == 0, \"Subtraction test failed\"\n",
    "\n",
    "# Test multiplication\n",
    "assert multiply(2, 3) == 6, \"Multiplication test failed\"\n",
    "assert multiply(-1, 5) == -5, \"Multiplication test failed\"\n",
    "assert multiply(0, 10) == 0, \"Multiplication test failed\"\n",
    "\n",
    "# Test division\n",
    "assert divide(6, 3) == 2, \"Division test failed\"\n",
    "assert divide(5, 2) == 2.5, \"Division test failed\"\n",
    "assert divide(5, 0) == \"Cannot divide by zero\", \"Division by zero test failed\"\n",
    "\n",
    "print(\"All tests passed!\")"
   ]
  },
  {
   "cell_type": "code",
   "execution_count": 16,
   "metadata": {},
   "outputs": [
    {
     "name": "stdout",
     "output_type": "stream",
     "text": [
      "Even!\n"
     ]
    }
   ],
   "source": [
    "# Write a program that checks if a number is even or odd.\n",
    "x = int(input(\"Enter number\"))\n",
    "\n",
    "if x % 2==0:\n",
    "    print(\"Even!\")\n",
    "else:\n",
    "    print(\"Odd!\")\n"
   ]
  },
  {
   "cell_type": "code",
   "execution_count": 21,
   "metadata": {},
   "outputs": [
    {
     "name": "stdout",
     "output_type": "stream",
     "text": [
      "atihshrah\n"
     ]
    }
   ],
   "source": [
    "# Develop a function that takes a string as input and returns the string reversed.\n",
    "\n",
    "def stringrev(string):\n",
    "    return string[::-1]\n",
    "\n",
    "str = \"Harshita\"\n",
    "print(stringrev(str))\n"
   ]
  },
  {
   "cell_type": "code",
   "execution_count": 24,
   "metadata": {},
   "outputs": [
    {
     "name": "stdout",
     "output_type": "stream",
     "text": [
      "Youre a senior citizen\n"
     ]
    }
   ],
   "source": [
    "age = int(input(\"Enter your age\"))\n",
    "if age < 18:\n",
    "    print(\"Youre a minor\")\n",
    "elif age >= 18 and age < 60:\n",
    "    print(\"Youre an Adult\")\n",
    "else:\n",
    "    print(\"Youre a senior citizen\")"
   ]
  },
  {
   "cell_type": "code",
   "execution_count": 25,
   "metadata": {},
   "outputs": [
    {
     "name": "stdout",
     "output_type": "stream",
     "text": [
      "The largest number is: 4.0\n"
     ]
    }
   ],
   "source": [
    "# Write a program that evaluates three numbers and prints the largest one.\n",
    "a = float(input(\"Enter first num: \"))\n",
    "b = float(input(\"Enter second num \"))\n",
    "c = float(input(\"Enter third num \"))\n",
    "\n",
    "largest = a\n",
    "if b > largest:\n",
    "    largest = b\n",
    "if c > largest:\n",
    "    largest = c\n",
    "\n",
    "print(f\"The largest number is: {largest}\")"
   ]
  },
  {
   "cell_type": "code",
   "execution_count": 34,
   "metadata": {},
   "outputs": [
    {
     "name": "stdout",
     "output_type": "stream",
     "text": [
      "A\n"
     ]
    }
   ],
   "source": [
    "# Implement a program that gives feedback based on a user's score (A, B, C, D, F).\n",
    "x = float(input(\"enter score\"))\n",
    "\n",
    "if x > 50 and x<60:\n",
    "    print(\"D\")\n",
    "elif x > 60 and x<70:\n",
    "    print(\"C\")\n",
    "elif x > 70 and x<80:\n",
    "    print(\"B\")\n",
    "elif x > 80 and x<101:\n",
    "    print(\"A\")\n",
    "else:\n",
    "    print(\"F\")"
   ]
  },
  {
   "cell_type": "code",
   "execution_count": 3,
   "metadata": {},
   "outputs": [
    {
     "name": "stdout",
     "output_type": "stream",
     "text": [
      "Yes it is\n"
     ]
    }
   ],
   "source": [
    "# Check if a year is a leap year\n",
    "\n",
    "x = int(input(\"Enter year\"))\n",
    "\n",
    "if x %2 ==0:\n",
    "    print(\"Yes it is\")\n",
    "else:\n",
    "    print(\"Given year is not a leap year\")"
   ]
  },
  {
   "cell_type": "code",
   "execution_count": 5,
   "metadata": {},
   "outputs": [
    {
     "name": "stdout",
     "output_type": "stream",
     "text": [
      "Logged in successfully\n"
     ]
    }
   ],
   "source": [
    "# Develop a simple login system that checks a username and password\n",
    "\n",
    "username = \"gambit24\"\n",
    "password = \"password\"\n",
    "\n",
    "userinput = input(\"Enter username\")\n",
    "passinput = input(\"Enter password\")\n",
    "\n",
    "if userinput == username and passinput == password:\n",
    "    print(\"Logged in successfully\")\n",
    "else:\n",
    "    print(\"Wrong credentials\")"
   ]
  },
  {
   "cell_type": "code",
   "execution_count": null,
   "metadata": {},
   "outputs": [
    {
     "name": "stdout",
     "output_type": "stream",
     "text": [
      "Number of vowels in given string 2\n"
     ]
    }
   ],
   "source": [
    "# count voewls in given string\n",
    "vovewls = \"aeiouAEIOU\"\n",
    "count = 0\n",
    "string = input(\"Enter string\")\n",
    "\n",
    "for str in string:\n",
    "    if str in vovewls:\n",
    "        count = count+1\n",
    "print(\"Number of vowels in given string\",count)"
   ]
  },
  {
   "cell_type": "code",
   "execution_count": 13,
   "metadata": {},
   "outputs": [
    {
     "name": "stdout",
     "output_type": "stream",
     "text": [
      "sdadasdasdasdadasa\n"
     ]
    }
   ],
   "source": [
    "# python program to remove all whitespaces\n",
    "def remspace(str):\n",
    "    return str.replace(\" \", \"\")\n",
    "x = input(\"Input string\")\n",
    "\n",
    "print(remspace(x))"
   ]
  },
  {
   "cell_type": "code",
   "execution_count": null,
   "metadata": {},
   "outputs": [
    {
     "name": "stdout",
     "output_type": "stream",
     "text": [
      "The strings are not anagrams.\n"
     ]
    }
   ],
   "source": [
    "# check anagrams\n",
    "s1 = input(\"Enter the first string: \").replace(\" \", \"\").lower()\n",
    "s2 = input(\"Enter the second string: \").replace(\" \", \"\").lower()\n",
    "\n",
    "if sorted(s1) == sorted(s2):\n",
    "    print(\"The strings are anagrams.\")\n",
    "else:\n",
    "    print(\"The strings are not anagrams.\")"
   ]
  },
  {
   "cell_type": "code",
   "execution_count": 18,
   "metadata": {},
   "outputs": [
    {
     "name": "stdout",
     "output_type": "stream",
     "text": [
      "and: 3\n",
      "hello: 1\n"
     ]
    }
   ],
   "source": [
    "# Write a program to count the freq of words in a given sentence.\n",
    "sentence = input(\"Enter a sentence \").lower()\n",
    "words = sentence.split() \n",
    "freq = {}\n",
    "\n",
    "for word in words:\n",
    "    if word in freq:\n",
    "        freq[word] += 1\n",
    "    else:\n",
    "        freq[word] = 1\n",
    "\n",
    "for word, count in freq.items():\n",
    "    print(f\"{word}: {count}\")"
   ]
  },
  {
   "cell_type": "code",
   "execution_count": null,
   "metadata": {},
   "outputs": [
    {
     "name": "stdout",
     "output_type": "stream",
     "text": [
      "First 10 Fibonacci numbers:\n",
      "0 1 1 2 3 5 8 13 21 34 "
     ]
    }
   ],
   "source": [
    "# Write a program that generates the first 10 Fibonacci numbers using iteration.\n",
    "#\n",
    "n1 = 0\n",
    "n2 = 1\n",
    "count = 0\n",
    "\n",
    "print(\"First 10 Fibonacci numbers:\")\n",
    "while count < 10:\n",
    "    print(n1, end=\" \")\n",
    "    nth = n1 + n2\n",
    "    n1 = n2\n",
    "    n2 = nth\n",
    "    count += 1"
   ]
  }
 ],
 "metadata": {
  "kernelspec": {
   "display_name": "Python 3",
   "language": "python",
   "name": "python3"
  },
  "language_info": {
   "codemirror_mode": {
    "name": "ipython",
    "version": 3
   },
   "file_extension": ".py",
   "mimetype": "text/x-python",
   "name": "python",
   "nbconvert_exporter": "python",
   "pygments_lexer": "ipython3",
   "version": "3.12.4"
  }
 },
 "nbformat": 4,
 "nbformat_minor": 2
}
