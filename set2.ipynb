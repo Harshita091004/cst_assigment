{
 "cells": [
  {
   "cell_type": "code",
   "execution_count": 5,
   "metadata": {},
   "outputs": [
    {
     "name": "stdout",
     "output_type": "stream",
     "text": [
      "2550\n"
     ]
    }
   ],
   "source": [
    "# Create a program that sums all even numbers from 1 to 100.\n",
    "i= 0\n",
    "sum = 0\n",
    "for i in range (100+1):\n",
    "    if i %2 ==0:\n",
    "        sum = sum+i\n",
    "    \n",
    "print(sum)"
   ]
  },
  {
   "cell_type": "code",
   "execution_count": null,
   "metadata": {},
   "outputs": [
    {
     "name": "stdout",
     "output_type": "stream",
     "text": [
      "2  *  1  =  2\n",
      "2  *  2  =  4\n",
      "2  *  3  =  6\n",
      "2  *  4  =  8\n",
      "2  *  5  =  10\n",
      "2  *  6  =  12\n",
      "2  *  7  =  14\n",
      "2  *  8  =  16\n",
      "2  *  9  =  18\n",
      "2  *  10  =  20\n"
     ]
    }
   ],
   "source": [
    "# Write a Python script that prints the multiplication table of a user-defined number\n",
    "\n",
    "x  = int(input(\"Enter number\"))\n",
    "for i in range(1, 11):\n",
    "    print(x , \" * \" , i , \" = \" , x*i )"
   ]
  },
  {
   "cell_type": "code",
   "execution_count": 1,
   "metadata": {},
   "outputs": [
    {
     "name": "stdout",
     "output_type": "stream",
     "text": [
      "All tests passed!\n"
     ]
    }
   ],
   "source": [
    "# •\tImplement a function and write unit tests to confirm its correctness using assertions.\n",
    "def is_prime(number):\n",
    "    if not isinstance(number, int) or number <= 1:\n",
    "        return False\n",
    "    for i in range(2, int(number ** 0.5) + 1):\n",
    "        if number % i == 0:\n",
    "            return False\n",
    "    return True\n",
    "\n",
    "def test_is_prime():\n",
    "    \"\"\"\n",
    "    Unit tests for the is_prime function.\n",
    "    \"\"\"\n",
    "    # Test cases for non-prime numbers\n",
    "    assert is_prime(-1) == False, \"Negative numbers are not prime\"\n",
    "    assert is_prime(0) == False, \"Zero is not prime\"\n",
    "    assert is_prime(1) == False, \"One is not prime\"\n",
    "    assert is_prime(4) == False, \"Four is not prime (divisible by 2)\"\n",
    "\n",
    "    # Test cases for prime numbers\n",
    "    assert is_prime(2) == True, \"Two is the smallest prime number\"\n",
    "    assert is_prime(3) == True, \"Three is a prime number\"\n",
    "    assert is_prime(13) == True, \"Thirteen is a prime number\"\n",
    "    assert is_prime(29) == True, \"Twenty-nine is a prime number\"\n",
    "\n",
    "    # Edge cases\n",
    "    assert is_prime(25) == False, \"Twenty-five is not prime (divisible by 5)\"\n",
    "    assert is_prime(100) == False, \"One hundred is not prime (divisible by 2 and 5)\"\n",
    "\n",
    "    print(\"All tests passed!\")\n",
    "\n",
    "\n",
    "# Run the tests\n",
    "test_is_prime()\n",
    "\n"
   ]
  },
  {
   "cell_type": "code",
   "execution_count": 15,
   "metadata": {},
   "outputs": [
    {
     "name": "stdout",
     "output_type": "stream",
     "text": [
      "120\n"
     ]
    }
   ],
   "source": [
    "# Develop a program that calculates the factorial of a number using a loop.\n",
    "\n",
    "x = int(input(\"Enter number\"))\n",
    "\n",
    "fac = 1\n",
    "\n",
    "for i in range(1 , x+1):\n",
    "    fac *=i\n",
    "print(fac)"
   ]
  },
  {
   "cell_type": "code",
   "execution_count": null,
   "metadata": {},
   "outputs": [],
   "source": [
    "# check primes\n",
    "limit = int(input(\"Enter the limit: \"))\n",
    "primes = []\n",
    "\n",
    "for num in range(2, limit + 1):\n",
    "    is_prime = True\n",
    "    for i in range(2, int(num ** 0.5) + 1):\n",
    "        if num % i == 0:\n",
    "            is_prime = False\n",
    "            break\n",
    "    if is_prime:\n",
    "        primes.append(num)\n",
    "\n",
    "print(f\"Prime numbers up to {limit}:\", primes)"
   ]
  },
  {
   "cell_type": "code",
   "execution_count": 16,
   "metadata": {},
   "outputs": [
    {
     "name": "stdout",
     "output_type": "stream",
     "text": [
      "The GCD of 10 and 16 is 2.\n"
     ]
    }
   ],
   "source": [
    "# Write a function that calculates the greatest common divisor (GCD) of two numbers.\n",
    "def gcd(a, b):\n",
    "    while b != 0:\n",
    "        a, b = b, a % b\n",
    "    return a\n",
    "\n",
    "# Example usage\n",
    "x = int(input(\"Enter the first number: \"))\n",
    "y = int(input(\"Enter the second number: \"))\n",
    "\n",
    "print(f\"The GCD of {x} and {y} is {gcd(x, y)}.\")"
   ]
  },
  {
   "cell_type": "code",
   "execution_count": null,
   "metadata": {},
   "outputs": [
    {
     "name": "stdout",
     "output_type": "stream",
     "text": [
      "10\n"
     ]
    }
   ],
   "source": [
    "# Create a Python function that takes a list of numbers and returns the largest number.\n",
    "\n",
    "def largest(num):\n",
    "    return max(num)\n",
    "nums = [1,2,3,4,5,6,7,8,9,10]\n",
    "print(largest(nums))\n",
    "\n",
    "    "
   ]
  },
  {
   "cell_type": "code",
   "execution_count": 21,
   "metadata": {},
   "outputs": [
    {
     "name": "stdout",
     "output_type": "stream",
     "text": [
      "120\n"
     ]
    }
   ],
   "source": [
    "# Implement a function for finding the factorial of a number using recursion.\n",
    "\n",
    "x = int(input(\"Enter numbere\"))\n",
    "\n",
    "def recfac(x):\n",
    "    if x == 0 or x ==1:\n",
    "        return 1\n",
    "    return x * recfac(x-1)\n",
    "print(recfac(x))"
   ]
  },
  {
   "cell_type": "code",
   "execution_count": 22,
   "metadata": {},
   "outputs": [
    {
     "name": "stdout",
     "output_type": "stream",
     "text": [
      "Initial total: 0\n",
      "After adding 10: 10\n",
      "After subtracting 4: 6\n"
     ]
    }
   ],
   "source": [
    "# Write a program that utilizes global variables and demonstrates their use in functions.\n",
    "#\n",
    "# glob var\n",
    "total = 0\n",
    "\n",
    "def addtotal(number):\n",
    "    global total\n",
    "    total += number\n",
    "\n",
    "def subtotal(number):\n",
    "    global total \n",
    "    total -= number\n",
    "\n",
    "print(\"Initial total:\", total)\n",
    "\n",
    "addtotal(10)\n",
    "print(\"After adding 10:\", total)\n",
    "\n",
    "subtotal(4)\n",
    "print(\"After subtracting 4:\", total)\n"
   ]
  },
  {
   "cell_type": "code",
   "execution_count": 1,
   "metadata": {},
   "outputs": [],
   "source": [
    "# module for string utility\n",
    "# Cell 1: Define the utility functions\n",
    "\n",
    "# Function to check if a string is a palindrome\n",
    "def is_palindrome(s):\n",
    "    return s == s[::-1]\n",
    "\n",
    "# Function to count the frequency of each character in a string\n",
    "def char_frequency(s):\n",
    "    frequency = {}\n",
    "    for char in s:\n",
    "        if char in frequency:\n",
    "            frequency[char] += 1\n",
    "        else:\n",
    "            frequency[char] = 1\n",
    "    return frequency\n",
    "\n",
    "# Function to convert a string to title case (capitalize each word)\n",
    "def to_title_case(s):\n",
    "    return s.title()\n",
    "\n",
    "# Function to reverse the words in a sentence\n",
    "def reverse_words(s):\n",
    "    words = s.split()\n",
    "    return ' '.join(reversed(words))\n",
    "\n",
    "\n",
    "def is_digit(s):\n",
    "    return s.isdigit()\n",
    "\n",
    "def remove_whitespace(s):\n",
    "    return \n"
   ]
  },
  {
   "cell_type": "code",
   "execution_count": null,
   "metadata": {},
   "outputs": [
    {
     "name": "stdout",
     "output_type": "stream",
     "text": [
      "Area: 50\n",
      "Perimeter: 30\n"
     ]
    }
   ],
   "source": [
    "# •\tDefine a class for a Rectangle that calculates the area and perimeter.\n",
    "\n",
    "class Rectangle:\n",
    "    def __init__(self, width, height):\n",
    "        self.width = width\n",
    "        self.height = height\n",
    "\n",
    "    def area(self):\n",
    "        return self.width * self.height\n",
    "\n",
    "    def perimeter(self):\n",
    "        return 2 * (self.width + self.height)\n",
    "\n",
    "\n",
    "\n",
    "rect = Rectangle(5, 10)\n",
    "print(\"Area:\", rect.area())\n",
    "print(\"Perimeter:\", rect.perimeter())\n"
   ]
  },
  {
   "cell_type": "code",
   "execution_count": 3,
   "metadata": {},
   "outputs": [
    {
     "name": "stdout",
     "output_type": "stream",
     "text": [
      "Deposited 50. New balance: 150\n",
      "Withdrew 30. New balance: 120\n",
      "Current balance: 120\n",
      "Insufficient funds.\n"
     ]
    }
   ],
   "source": [
    "# •\tCreate a class that models a BankAccount with methods to deposit and withdraw funds.\n",
    "class BankAccount:\n",
    "    def __init__(self, account_holder, initial_balance=0):\n",
    "        self.account_holder = account_holder\n",
    "        self.balance = initial_balance\n",
    "\n",
    "    def deposit(self, amount):\n",
    "        if amount > 0:\n",
    "            self.balance += amount\n",
    "            return f\"Deposited {amount}. New balance: {self.balance}\"\n",
    "        else:\n",
    "            return \"Deposit amount must be positive.\"\n",
    "\n",
    "    def withdraw(self, amount):\n",
    "        if amount > 0:\n",
    "            if self.balance >= amount:\n",
    "                self.balance -= amount\n",
    "                return f\"Withdrew {amount}. New balance: {self.balance}\"\n",
    "            else:\n",
    "                return \"Insufficient funds.\"\n",
    "        else:\n",
    "            return \"Withdrawal amount must be positive.\"\n",
    "\n",
    "    def get_balance(self):\n",
    "        return f\"Current balance: {self.balance}\"\n",
    "\n",
    "account = BankAccount(\"Alice\", 100)\n",
    "print(account.deposit(50))          \n",
    "print(account.withdraw(30))        \n",
    "print(account.get_balance())\n",
    "print(account.withdraw(200))\n"
   ]
  },
  {
   "cell_type": "code",
   "execution_count": 4,
   "metadata": {},
   "outputs": [
    {
     "name": "stdout",
     "output_type": "stream",
     "text": [
      "This is a Circle.\n",
      "Area: 78.5\n",
      "Perimeter: 31.400000000000002\n"
     ]
    }
   ],
   "source": [
    "# •\tImplement inheritance by creating a Circle class that inherits from a Shape class.\n",
    "class Shape:\n",
    "    def __init__(self, name):\n",
    "        self.name = name\n",
    "        \n",
    "    def describe(self):\n",
    "        return f\"This is a {self.name}.\"\n",
    "\n",
    "class Circle(Shape):\n",
    "    def __init__(self, radius):\n",
    "        super().__init__(\"Circle\")\n",
    "        self.radius = radius\n",
    "\n",
    "    def area(self):\n",
    "        return 3.14 * self.radius ** 2\n",
    "    \n",
    "    def perimeter(self):\n",
    "        return 2 * 3.14 * self.radius\n",
    "\n",
    "circle = Circle(5)\n",
    "print(circle.describe())\n",
    "print(\"Area:\", circle.area())\n",
    "print(\"Perimeter:\", circle.perimeter())\n"
   ]
  },
  {
   "cell_type": "code",
   "execution_count": 5,
   "metadata": {},
   "outputs": [
    {
     "name": "stdout",
     "output_type": "stream",
     "text": [
      "Buddy says: Woof!\n",
      "Whiskers says: Meow!\n"
     ]
    }
   ],
   "source": [
    "# •\tCreate an abstract class Animal with subclasses for Dog and Cat.\n",
    "from abc import ABC, abstractmethod\n",
    "\n",
    "# Abstract class\n",
    "class Animal(ABC):\n",
    "    def __init__(self, name):\n",
    "        self.name = name\n",
    "\n",
    "    @abstractmethod\n",
    "    def speak(self):\n",
    "        \"\"\"Abstract method to define the sound an animal makes\"\"\"\n",
    "        pass\n",
    "\n",
    "# Subclass for Dog\n",
    "class Dog(Animal):\n",
    "    def speak(self):\n",
    "        return f\"{self.name} says: Woof!\"\n",
    "\n",
    "\n",
    "# Subclass for Cat\n",
    "class Cat(Animal):\n",
    "    def speak(self):\n",
    "        return f\"{self.name} says: Meow!\"\n",
    "\n",
    "dog = Dog(\"Buddy\")\n",
    "cat = Cat(\"Whiskers\")\n",
    "\n",
    "print(dog.speak())\n",
    "print(cat.speak())\n"
   ]
  },
  {
   "cell_type": "code",
   "execution_count": null,
   "metadata": {},
   "outputs": [
    {
     "name": "stdout",
     "output_type": "stream",
     "text": [
      "Number 7 found at index 3.\n"
     ]
    }
   ],
   "source": [
    "# •\tImplement a binary search algorithm on a sorted list of numbers.\n",
    "\n",
    "def binary_search(sorted_list, target):\n",
    "    left, right = 0, len(sorted_list) - 1\n",
    "    while left <= right:\n",
    "        mid = (left + right) // 2 \n",
    "        if sorted_list[mid] == target:\n",
    "            return mid\n",
    "        elif sorted_list[mid] < target:\n",
    "            left = mid + 1\n",
    "        else:\n",
    "            right = mid - 1\n",
    "    return -1\n",
    "\n",
    "numbers = [1, 3, 5, 7, 9, 11, 13, 15]\n",
    "target = 7\n",
    "\n",
    "result = binary_search(numbers, target)\n",
    "if result != -1:\n",
    "    print(f\"Number {target} found at index {result}.\") \n",
    "else:\n",
    "    print(f\"Number {target} not found.\")\n"
   ]
  },
  {
   "cell_type": "code",
   "execution_count": 7,
   "metadata": {},
   "outputs": [
    {
     "name": "stdout",
     "output_type": "stream",
     "text": [
      "10 is a positive number.\n",
      "Error: Input must be a positive number.\n",
      "Error: '<=' not supported between instances of 'str' and 'int'\n"
     ]
    }
   ],
   "source": [
    "# •\tCreate a function that raises an exception if the input is not a positive number.\n",
    "def check_positive_number(value):\n",
    "    if value <= 0:\n",
    "        raise ValueError(\"Input must be a positive number.\")\n",
    "    return f\"{value} is a positive number.\"\n",
    "\n",
    "try:\n",
    "    print(check_positive_number(10))  # Output: 10 is a positive number.\n",
    "    print(check_positive_number(-5))  # Raises ValueError\n",
    "except Exception as e:\n",
    "    print(f\"Error: {e}\")\n",
    "\n",
    "try:\n",
    "    print(check_positive_number(\"hello\"))  # Raises TypeError\n",
    "except Exception as e:\n",
    "    print(f\"Error: {e}\")\n"
   ]
  },
  {
   "cell_type": "code",
   "execution_count": null,
   "metadata": {},
   "outputs": [
    {
     "name": "stdout",
     "output_type": "stream",
     "text": [
      "Maximum value: 0\n",
      "Maximum value: -5\n"
     ]
    }
   ],
   "source": [
    "def find_max(numbers):\n",
    "    \"\"\"\n",
    "    Find the maximum value in a list of numbers.\n",
    "\n",
    "    :param numbers: List of numbers\n",
    "    :return: Maximum value in the list\n",
    "    \"\"\"\n",
    "    max_value = 0  # Bug: Default value assumes only positive numbers\n",
    "    for num in numbers:\n",
    "        if num > max_value:\n",
    "            max_value = num\n",
    "    return max_value\n",
    "\n",
    "numbers = [-10, -20, -30, -5]  # All negative numbers\n",
    "print(\"Maximum value:\", find_max(numbers))  # Bug: Returns 0, which is not in the list\n",
    "\n",
    "##########################\n",
    "# Fixed code\n",
    "##########################\n",
    "\n",
    "def find_max(numbers):\n",
    "    if not numbers:\n",
    "        raise ValueError(\"The list is empty. Cannot find the maximum value.\")\n",
    "    max_value = numbers[0]  # Initialize with the first element of the list\n",
    "    for num in numbers:\n",
    "        if num > max_value:\n",
    "            max_value = num\n",
    "    return max_value\n",
    "\n",
    "\n",
    "# Example usage\n",
    "numbers = [-10, -20, -30, -5]\n",
    "print(\"Maximum value:\", find_max(numbers))  # Output: Maximum value: -5\n"
   ]
  },
  {
   "cell_type": "code",
   "execution_count": 4,
   "metadata": {},
   "outputs": [
    {
     "name": "stdout",
     "output_type": "stream",
     "text": [
      "Point 1: (3, 5)\n",
      "Point 2: (7, 9)\n",
      "Distance between points: 5.66\n",
      "Error: 'tuple' object does not support item assignment\n"
     ]
    }
   ],
   "source": [
    "# •\tWrite a Python script to demonstrate the usage of tuples for storing coordinates.\n",
    "\n",
    "# Define a tuple to store 2D coordinates (x, y)\n",
    "point1 = (3, 5)  # Coordinates of point1: (3, 5)\n",
    "point2 = (7, 9)  # Coordinates of point2: (7, 9)\n",
    "\n",
    "# Function to calculate the distance between two points\n",
    "import math\n",
    "def distance(point1, point2):\n",
    "    return math.sqrt((point2[0] - point1[0])**2 + (point2[1] - point1[1])**2)\n",
    "\n",
    "# Print the coordinates and the distance\n",
    "print(f\"Point 1: {point1}\")\n",
    "print(f\"Point 2: {point2}\")\n",
    "print(f\"Distance between points: {distance(point1, point2):.2f}\")\n",
    "\n",
    "# Demonstrating tuple immutability\n",
    "try:\n",
    "    point1[0] = 19\n",
    "except TypeError as e:\n",
    "    print(f\"Error: {e}\")\n"
   ]
  },
  {
   "cell_type": "code",
   "execution_count": null,
   "metadata": {},
   "outputs": [
    {
     "name": "stdout",
     "output_type": "stream",
     "text": [
      "Original list: [1, 2, 3, 4, 5]\n",
      "Modified list: [1, 7, 2, 10, 5, 6]\n"
     ]
    }
   ],
   "source": [
    "# •\tCreate a program that uses lists and demonstrates mutability by modifying the list items.\n",
    "# Define a list of numbers\n",
    "numbers = [1, 2, 3, 4, 5]\n",
    "\n",
    "# Print the original list\n",
    "print(\"Original list:\", numbers)\n",
    "\n",
    "# Modify an element in the list\n",
    "numbers[2] = 10\n",
    "\n",
    "# Add a new item to the list\n",
    "numbers.append(6)  \n",
    "\n",
    "# Remove an element from the list\n",
    "numbers.remove(4) \n",
    "\n",
    "# Insert an element at a specific pos\n",
    "numbers.insert(1, 7)\n",
    "\n",
    "# Print the modified list\n",
    "print(\"Modified list:\", numbers)\n"
   ]
  },
  {
   "cell_type": "code",
   "execution_count": 1,
   "metadata": {},
   "outputs": [
    {
     "name": "stdout",
     "output_type": "stream",
     "text": [
      "Hello universe! The universe is beautiful.\n"
     ]
    }
   ],
   "source": [
    "# Create a function that replaces every occurrence of a substring with another substring in a string..\n",
    "def replace_substring(input_string, old_substring, new_substring):\n",
    "    if not old_substring:\n",
    "        raise ValueError(\"The substring to replace cannot be empty.\")\n",
    "\n",
    "    return input_string.replace(old_substring, new_substring)\n",
    "\n",
    "# Example usage\n",
    "original_string = \"Hello world! The world is beautiful.\"\n",
    "modified_string = replace_substring(original_string, \"world\", \"universe\")\n",
    "print(modified_string)\n",
    "\n"
   ]
  },
  {
   "cell_type": "code",
   "execution_count": 2,
   "metadata": {},
   "outputs": [
    {
     "name": "stdout",
     "output_type": "stream",
     "text": [
      "[DEBUG] Replacing 'world' with 'universe' in 'Hello world! The world is beautiful.'\n",
      "[DEBUG] Result: 'Hello universe! The universe is beautiful.'\n",
      "Final output: Hello universe! The universe is beautiful.\n"
     ]
    }
   ],
   "source": [
    "# Create a program that includes debugging statements to show the flow of execution.\n",
    "def replace_substring(input_string, old_substring, new_substring):\n",
    "    print(f\"[DEBUG] Replacing '{old_substring}' with '{new_substring}' in '{input_string}'\")\n",
    "    if not old_substring:\n",
    "        print(\"[ERROR] The substring to replace cannot be empty.\")\n",
    "        return input_string\n",
    "    result = input_string.replace(old_substring, new_substring)\n",
    "    print(f\"[DEBUG] Result: '{result}'\")\n",
    "    return result\n",
    "\n",
    "# Main program\n",
    "original_string = \"Hello world! The world is beautiful.\"\n",
    "modified_string = replace_substring(original_string, \"world\", \"universe\")\n",
    "print(\"Final output:\", modified_string)\n"
   ]
  },
  {
   "cell_type": "code",
   "execution_count": 3,
   "metadata": {},
   "outputs": [
    {
     "name": "stderr",
     "output_type": "stream",
     "text": [
      "2024-11-30 15:12:20,757 - Called add with args=(5, 10), kwargs={}\n",
      "2024-11-30 15:12:20,758 - Result: 15\n",
      "2024-11-30 15:12:20,759 - Called replace_substring with args=('Hello world', 'world', 'universe'), kwargs={}\n",
      "2024-11-30 15:12:20,760 - Result: Hello universe\n"
     ]
    },
    {
     "data": {
      "text/plain": [
       "'Hello universe'"
      ]
     },
     "execution_count": 3,
     "metadata": {},
     "output_type": "execute_result"
    }
   ],
   "source": [
    "# Create a logging system that tracks function calls and their parameters.\n",
    "import logging\n",
    "\n",
    "# Configure logging\n",
    "logging.basicConfig(level=logging.DEBUG, format=\"%(asctime)s - %(message)s\")\n",
    "\n",
    "def log_function_call(func):\n",
    "    def wrapper(*args, **kwargs):\n",
    "        logging.debug(f\"Called {func.__name__} with args={args}, kwargs={kwargs}\")\n",
    "        result = func(*args, **kwargs)\n",
    "        logging.debug(f\"Result: {result}\")\n",
    "        return result\n",
    "    return wrapper\n",
    "\n",
    "# Example functions\n",
    "@log_function_call\n",
    "def add(a, b):\n",
    "    return a + b\n",
    "\n",
    "@log_function_call\n",
    "def replace_substring(s, old, new):\n",
    "    return s.replace(old, new)\n",
    "\n",
    "# Main program\n",
    "add(5, 10)\n",
    "replace_substring(\"Hello world\", \"world\", \"universe\")\n"
   ]
  },
  {
   "cell_type": "code",
   "execution_count": null,
   "metadata": {},
   "outputs": [
    {
     "name": "stdout",
     "output_type": "stream",
     "text": [
      "Squared: [1, 4, 9, 16, 25]\n",
      "Doubled: [2, 4, 6, 8, 10]\n"
     ]
    }
   ],
   "source": [
    "# Implement a higher-order function that takes another function as an argument and applies it to a list.\n",
    "def apply_to_list(func, lst):\n",
    "    return [func(x) for x in lst]\n",
    "\n",
    "# Example functions to use\n",
    "def square(x):\n",
    "    return x * x\n",
    "\n",
    "def double(x):\n",
    "    return x * 2\n",
    "\n",
    "# Main program\n",
    "numbers = [1, 2, 3, 4, 5]\n",
    "\n",
    "squared_numbers = apply_to_list(square, numbers)\n",
    "doubled_numbers = apply_to_list(double, numbers)\n",
    "\n",
    "print(\"Squared:\", squared_numbers)\n",
    "print(\"Doubled:\", doubled_numbers)\n"
   ]
  },
  {
   "cell_type": "code",
   "execution_count": 5,
   "metadata": {},
   "outputs": [
    {
     "name": "stdout",
     "output_type": "stream",
     "text": [
      "Added 50 of Apple. Current stock: 50\n",
      "Added 30 of Banana. Current stock: 30\n",
      "Added 20 of Orange. Current stock: 20\n",
      "Current inventory:\n",
      "Apple: 50 units, $0.5 each\n",
      "Banana: 30 units, $0.25 each\n",
      "Orange: 20 units, $0.75 each\n",
      "Removed 10 of Apple. Remaining stock: 40\n",
      "Removed 5 of Banana. Remaining stock: 25\n",
      "Current inventory:\n",
      "Apple: 40 units, $0.5 each\n",
      "Banana: 25 units, $0.25 each\n",
      "Orange: 20 units, $0.75 each\n",
      "Total inventory value: $41.25\n"
     ]
    }
   ],
   "source": [
    "# Write a program to simulate a simple inventory system using dictionaries.\n",
    "# Inventory system\n",
    "inventory = {}\n",
    "\n",
    "def add_item(item, quantity, price):\n",
    "    if item in inventory:\n",
    "        inventory[item]['quantity'] += quantity\n",
    "    else:\n",
    "        inventory[item] = {'quantity': quantity, 'price': price}\n",
    "    print(f\"Added {quantity} of {item}. Current stock: {inventory[item]['quantity']}\")\n",
    "\n",
    "def remove_item(item, quantity):\n",
    "    if item in inventory and inventory[item]['quantity'] >= quantity:\n",
    "        inventory[item]['quantity'] -= quantity\n",
    "        print(f\"Removed {quantity} of {item}. Remaining stock: {inventory[item]['quantity']}\")\n",
    "    else:\n",
    "        print(f\"Not enough stock for {item}.\")\n",
    "\n",
    "def view_inventory():\n",
    "    if not inventory:\n",
    "        print(\"Inventory is empty.\")\n",
    "    else:\n",
    "        print(\"Current inventory:\")\n",
    "        for item, details in inventory.items():\n",
    "            print(f\"{item}: {details['quantity']} units, ${details['price']} each\")\n",
    "\n",
    "def calculate_total_value():\n",
    "    total = sum(details['quantity'] * details['price'] for details in inventory.values())\n",
    "    print(f\"Total inventory value: ${total:.2f}\")\n",
    "\n",
    "# Main program\n",
    "if __name__ == \"__main__\":\n",
    "    add_item('Apple', 50, 0.5)\n",
    "    add_item('Banana', 30, 0.25)\n",
    "    add_item('Orange', 20, 0.75)\n",
    "\n",
    "    view_inventory()\n",
    "\n",
    "    remove_item('Apple', 10)\n",
    "    remove_item('Banana', 5)\n",
    "\n",
    "    view_inventory()\n",
    "\n",
    "    # Calculate total value\n",
    "    calculate_total_value()\n"
   ]
  },
  {
   "cell_type": "code",
   "execution_count": null,
   "metadata": {},
   "outputs": [
    {
     "name": "stdout",
     "output_type": "stream",
     "text": [
      "[{'name': 'Bob', 'age': 20}, {'name': 'John', 'age': 25}, {'name': 'Alice', 'age': 30}]\n"
     ]
    }
   ],
   "source": [
    "# Create a function that sorts a list of dictionaries by a specified key.\n",
    "def sort_by_key(lst, key):\n",
    "    try:\n",
    "        return sorted(lst, key=lambda x: x[key])\n",
    "    except KeyError:\n",
    "        print(f\"[ERROR] The key '{key}' was not found in some dictionaries.\")\n",
    "        return lst\n",
    "\n",
    "# Example usage\n",
    "data = [\n",
    "    {'name': 'John', 'age': 25},\n",
    "    {'name': 'Alice', 'age': 30},\n",
    "    {'name': 'Bob', 'age': 20}\n",
    "]\n",
    "\n",
    "sorted_data = sort_by_key(data, 'age')\n",
    "print(sorted_data)\n"
   ]
  }
 ],
 "metadata": {
  "kernelspec": {
   "display_name": "Python 3",
   "language": "python",
   "name": "python3"
  },
  "language_info": {
   "codemirror_mode": {
    "name": "ipython",
    "version": 3
   },
   "file_extension": ".py",
   "mimetype": "text/x-python",
   "name": "python",
   "nbconvert_exporter": "python",
   "pygments_lexer": "ipython3",
   "version": "3.13.0"
  }
 },
 "nbformat": 4,
 "nbformat_minor": 2
}
