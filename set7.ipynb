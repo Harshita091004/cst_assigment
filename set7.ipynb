{
 "cells": [
  {
   "cell_type": "code",
   "execution_count": 1,
   "metadata": {},
   "outputs": [
    {
     "name": "stdout",
     "output_type": "stream",
     "text": [
      "CPU: 35.7%, Memory: 57.4%, Disk: 71.1%\n",
      "CPU: 37.9%, Memory: 57.5%, Disk: 71.1%\n",
      "CPU: 27.6%, Memory: 58.3%, Disk: 71.1%\n",
      "CPU: 49.6%, Memory: 46.4%, Disk: 71.1%\n",
      "CPU: 43.8%, Memory: 45.5%, Disk: 71.1%\n"
     ]
    },
    {
     "ename": "KeyboardInterrupt",
     "evalue": "",
     "output_type": "error",
     "traceback": [
      "\u001b[1;31m---------------------------------------------------------------------------\u001b[0m",
      "\u001b[1;31mKeyboardInterrupt\u001b[0m                         Traceback (most recent call last)",
      "Cell \u001b[1;32mIn[1], line 23\u001b[0m\n\u001b[0;32m     21\u001b[0m \u001b[38;5;28mprint\u001b[39m(\u001b[38;5;124mf\u001b[39m\u001b[38;5;124m\"\u001b[39m\u001b[38;5;124mCPU: \u001b[39m\u001b[38;5;132;01m{\u001b[39;00mcpu\u001b[38;5;132;01m}\u001b[39;00m\u001b[38;5;124m%, Memory: \u001b[39m\u001b[38;5;132;01m{\u001b[39;00mmemory\u001b[38;5;132;01m}\u001b[39;00m\u001b[38;5;124m%, Disk: \u001b[39m\u001b[38;5;132;01m{\u001b[39;00mdisk\u001b[38;5;132;01m}\u001b[39;00m\u001b[38;5;124m%\u001b[39m\u001b[38;5;124m\"\u001b[39m)\n\u001b[0;32m     22\u001b[0m check_anomalies(cpu, memory, disk)\n\u001b[1;32m---> 23\u001b[0m \u001b[43mtime\u001b[49m\u001b[38;5;241;43m.\u001b[39;49m\u001b[43msleep\u001b[49m\u001b[43m(\u001b[49m\u001b[38;5;241;43m5\u001b[39;49m\u001b[43m)\u001b[49m\n",
      "\u001b[1;31mKeyboardInterrupt\u001b[0m: "
     ]
    }
   ],
   "source": [
    "# Create a system for monitoring server performance metrics and notifying on anomalies.\n",
    "import psutil\n",
    "import time\n",
    "\n",
    "def get_metrics():\n",
    "    cpu = psutil.cpu_percent(interval=1)\n",
    "    memory = psutil.virtual_memory().percent\n",
    "    disk = psutil.disk_usage('/').percent\n",
    "    return cpu, memory, disk\n",
    "\n",
    "def check_anomalies(cpu, memory, disk):\n",
    "    if cpu > 80:\n",
    "        print(\"CPU usage is high!\")\n",
    "    if memory > 80:\n",
    "        print(\"Memory usage is high!\")\n",
    "    if disk > 80:\n",
    "        print(\"Disk usage is high!\")\n",
    "\n",
    "while True:\n",
    "    cpu, memory, disk = get_metrics()\n",
    "    print(f\"CPU: {cpu}%, Memory: {memory}%, Disk: {disk}%\")\n",
    "    check_anomalies(cpu, memory, disk)\n",
    "    time.sleep(5)\n"
   ]
  },
  {
   "cell_type": "code",
   "execution_count": 2,
   "metadata": {},
   "outputs": [
    {
     "name": "stdout",
     "output_type": "stream",
     "text": [
      "Laptop: $999.99\n",
      "Smartphone: $499.99\n",
      "Total: $1499.98\n"
     ]
    }
   ],
   "source": [
    "# Build a simple e-commerce cart system using classes and functions.\n",
    "class Item:\n",
    "    def __init__(self, name, price):\n",
    "        self.name = name\n",
    "        self.price = price\n",
    "\n",
    "    def __str__(self):\n",
    "        return f\"{self.name}: ${self.price:.2f}\"\n",
    "\n",
    "class Cart:\n",
    "    def __init__(self):\n",
    "        self.items = []\n",
    "\n",
    "    def add_item(self, item):\n",
    "        self.items.append(item)\n",
    "\n",
    "    def remove_item(self, item):\n",
    "        self.items.remove(item)\n",
    "\n",
    "    def total_price(self):\n",
    "        return sum(item.price for item in self.items)\n",
    "\n",
    "    def display_cart(self):\n",
    "        for item in self.items:\n",
    "            print(item)\n",
    "        print(f\"Total: ${self.total_price():.2f}\")\n",
    "\n",
    "cart = Cart()\n",
    "item1 = Item(\"Laptop\", 999.99)\n",
    "item2 = Item(\"Smartphone\", 499.99)\n",
    "cart.add_item(item1)\n",
    "cart.add_item(item2)\n",
    "cart.display_cart()\n"
   ]
  },
  {
   "cell_type": "code",
   "execution_count": 3,
   "metadata": {},
   "outputs": [
    {
     "name": "stdout",
     "output_type": "stream",
     "text": [
      "User registered.\n",
      "Login successful.\n"
     ]
    }
   ],
   "source": [
    "# Implement a user authentication system with classes and file storage.\n",
    "import json\n",
    "\n",
    "class User:\n",
    "    def __init__(self, username, password):\n",
    "        self.username = username\n",
    "        self.password = password\n",
    "\n",
    "class Authenticator:\n",
    "    def __init__(self, filename='users.json'):\n",
    "        self.filename = filename\n",
    "        self.users = self.load_users()\n",
    "\n",
    "    def load_users(self):\n",
    "        try:\n",
    "            with open(self.filename, 'r') as file:\n",
    "                return json.load(file)\n",
    "        except FileNotFoundError:\n",
    "            return {}\n",
    "\n",
    "    def save_users(self):\n",
    "        with open(self.filename, 'w') as file:\n",
    "            json.dump(self.users, file)\n",
    "\n",
    "    def register(self, username, password):\n",
    "        if username in self.users:\n",
    "            print(\"Username already exists.\")\n",
    "        else:\n",
    "            self.users[username] = password\n",
    "            self.save_users()\n",
    "            print(\"User registered.\")\n",
    "\n",
    "    def login(self, username, password):\n",
    "        if username in self.users and self.users[username] == password:\n",
    "            print(\"Login successful.\")\n",
    "        else:\n",
    "            print(\"Invalid username or password.\")\n",
    "\n",
    "auth = Authenticator()\n",
    "auth.register(\"user1\", \"password1\")\n",
    "auth.login(\"user1\", \"password1\")\n"
   ]
  },
  {
   "cell_type": "code",
   "execution_count": 4,
   "metadata": {},
   "outputs": [
    {
     "name": "stdout",
     "output_type": "stream",
     "text": [
      "Your score is 3/3\n"
     ]
    }
   ],
   "source": [
    "# Design a quiz application that evaluates user knowledge using functions and data structures.\n",
    "class Quiz:\n",
    "    def __init__(self, questions):\n",
    "        self.questions = questions\n",
    "        self.score = 0\n",
    "\n",
    "    def start(self):\n",
    "        for question, answer in self.questions.items():\n",
    "            user_answer = input(question + \" \")\n",
    "            if user_answer.lower() == answer.lower():\n",
    "                self.score += 1\n",
    "        self.display_score()\n",
    "\n",
    "    def display_score(self):\n",
    "        print(f\"Your score is {self.score}/{len(self.questions)}\")\n",
    "\n",
    "questions = {\n",
    "    \"What is the capital of France?\": \"Paris\",\n",
    "    \"What is 2 + 2?\": \"4\",\n",
    "    \"What is the color of the sky?\": \"blue\"\n",
    "}\n",
    "\n",
    "quiz = Quiz(questions)\n",
    "quiz.start()\n"
   ]
  },
  {
   "cell_type": "code",
   "execution_count": 5,
   "metadata": {},
   "outputs": [
    {
     "name": "stdout",
     "output_type": "stream",
     "text": [
      "Red\n",
      "Green\n",
      "Yellow\n",
      "Red\n"
     ]
    },
    {
     "ename": "KeyboardInterrupt",
     "evalue": "",
     "output_type": "error",
     "traceback": [
      "\u001b[1;31m---------------------------------------------------------------------------\u001b[0m",
      "\u001b[1;31mKeyboardInterrupt\u001b[0m                         Traceback (most recent call last)",
      "Cell \u001b[1;32mIn[5], line 16\u001b[0m\n\u001b[0;32m     13\u001b[0m             \u001b[38;5;28;01melif\u001b[39;00m light \u001b[38;5;241m==\u001b[39m \u001b[38;5;124m\"\u001b[39m\u001b[38;5;124mYellow\u001b[39m\u001b[38;5;124m\"\u001b[39m:\n\u001b[0;32m     14\u001b[0m                 time\u001b[38;5;241m.\u001b[39msleep(\u001b[38;5;241m2\u001b[39m)\n\u001b[1;32m---> 16\u001b[0m \u001b[43mtraffic_light\u001b[49m\u001b[43m(\u001b[49m\u001b[43m)\u001b[49m\n",
      "Cell \u001b[1;32mIn[5], line 10\u001b[0m, in \u001b[0;36mtraffic_light\u001b[1;34m()\u001b[0m\n\u001b[0;32m      8\u001b[0m \u001b[38;5;28mprint\u001b[39m(light)\n\u001b[0;32m      9\u001b[0m \u001b[38;5;28;01mif\u001b[39;00m light \u001b[38;5;241m==\u001b[39m \u001b[38;5;124m\"\u001b[39m\u001b[38;5;124mRed\u001b[39m\u001b[38;5;124m\"\u001b[39m:\n\u001b[1;32m---> 10\u001b[0m     \u001b[43mtime\u001b[49m\u001b[38;5;241;43m.\u001b[39;49m\u001b[43msleep\u001b[49m\u001b[43m(\u001b[49m\u001b[38;5;241;43m7\u001b[39;49m\u001b[43m)\u001b[49m\n\u001b[0;32m     11\u001b[0m \u001b[38;5;28;01melif\u001b[39;00m light \u001b[38;5;241m==\u001b[39m \u001b[38;5;124m\"\u001b[39m\u001b[38;5;124mGreen\u001b[39m\u001b[38;5;124m\"\u001b[39m:\n\u001b[0;32m     12\u001b[0m     time\u001b[38;5;241m.\u001b[39msleep(\u001b[38;5;241m5\u001b[39m)\n",
      "\u001b[1;31mKeyboardInterrupt\u001b[0m: "
     ]
    }
   ],
   "source": [
    "# Create a simulation of a simple traffic light system.\n",
    "import time\n",
    "\n",
    "def traffic_light():\n",
    "    lights = [\"Red\", \"Green\", \"Yellow\"]\n",
    "    while True:\n",
    "        for light in lights:\n",
    "            print(light)\n",
    "            if light == \"Red\":\n",
    "                time.sleep(7)\n",
    "            elif light == \"Green\":\n",
    "                time.sleep(5)\n",
    "            elif light == \"Yellow\":\n",
    "                time.sleep(2)\n",
    "\n",
    "traffic_light()\n"
   ]
  },
  {
   "cell_type": "code",
   "execution_count": 7,
   "metadata": {},
   "outputs": [
    {
     "name": "stdout",
     "output_type": "stream",
     "text": [
      "This is the body of my first post.\n"
     ]
    }
   ],
   "source": [
    "# Develop a content management system using object-oriented principles and file handling.\n",
    "import os\n",
    "\n",
    "class Content:\n",
    "    def __init__(self, title, body):\n",
    "        self.title = title\n",
    "        self.body = body\n",
    "\n",
    "class ContentManager:\n",
    "    def __init__(self, directory='content'):\n",
    "        self.directory = directory\n",
    "        os.makedirs(self.directory, exist_ok=True)\n",
    "\n",
    "    def save_content(self, content):\n",
    "        filename = os.path.join(self.directory, content.title + '.txt')\n",
    "        with open(filename, 'w') as file:\n",
    "            file.write(content.body)\n",
    "\n",
    "    def load_content(self, title):\n",
    "        filename = os.path.join(self.directory, title + '.txt')\n",
    "        try:\n",
    "            with open(filename, 'r') as file:\n",
    "                return file.read()\n",
    "        except FileNotFoundError:\n",
    "            print(\"Content not found.\")\n",
    "            return None\n",
    "\n",
    "manager = ContentManager()\n",
    "content1 = Content(\"My First Post\", \"This is the body of my first post.\")\n",
    "manager.save_content(content1)\n",
    "print(manager.load_content(\"My First Post\"))\n"
   ]
  }
 ],
 "metadata": {
  "kernelspec": {
   "display_name": "Python 3",
   "language": "python",
   "name": "python3"
  },
  "language_info": {
   "codemirror_mode": {
    "name": "ipython",
    "version": 3
   },
   "file_extension": ".py",
   "mimetype": "text/x-python",
   "name": "python",
   "nbconvert_exporter": "python",
   "pygments_lexer": "ipython3",
   "version": "3.13.0"
  }
 },
 "nbformat": 4,
 "nbformat_minor": 2
}
